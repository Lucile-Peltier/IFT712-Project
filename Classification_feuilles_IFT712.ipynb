{
 "cells": [
  {
   "cell_type": "markdown",
   "metadata": {},
   "source": [
    "# Projet de session : Classification de feuilles\n",
    "\n",
    "## Lucile Peltier (pell3601), Sergio Redondo (reds2401)\n",
    "\n",
    "## IFT712 - Université de Sherbrooke\n",
    "\n",
    "# Objectif :\n",
    "\n",
    "Tester des méthodes de classification sur une base de données Kaggle, tout en respectant l’utilisation de validation croisée, et de recherche d’hyperparamètres afin d’identifier la meilleure solution.\n",
    "\n",
    "Base de données : https://www.kaggle.com/c/leaf-classification/\n",
    "\n",
    "Méthodes à tester : machines à vecteurs de support (SVM), k-plus proches voisins, Naïve Bayésienne, Arbre de décisions, Forêt Aléatoire, et Réseau de Neurones avec Perceptron. "
   ]
  },
  {
   "cell_type": "markdown",
   "metadata": {},
   "source": [
    "# Initialisation"
   ]
  },
  {
   "cell_type": "code",
   "execution_count": 1,
   "metadata": {},
   "outputs": [],
   "source": [
    "# Importer outils générales\n",
    "import numpy as np\n",
    "import pandas as pd\n",
    "import os\n",
    "import time\n",
    "from sklearn.metrics import precision_recall_fscore_support as metriques\n",
    "from sklearn.metrics import accuracy_score as accu\n",
    "from sklearn.metrics import plot_roc_curve\n",
    "from tabulate import tabulate\n",
    "import ipywidgets as widgets\n",
    "\n",
    "\n",
    "# Importer codes spécifiques\n",
    "import gestion_donnees as gd\n",
    "import SVM\n",
    "import k_proches_voisins\n",
    "import naive_bayesienne\n",
    "import arbre_decision\n",
    "import foret_aleatoire\n",
    "import perceptron\n",
    "\n",
    "\n",
    "# Ignorer les warnings\n",
    "from warnings import simplefilter\n",
    "simplefilter(action='ignore')\n",
    "\n",
    "\n",
    "# Lire la base de données\n",
    "d_base = pd.read_csv(os.getcwd() + '/donnees/train.csv')"
   ]
  },
  {
   "cell_type": "markdown",
   "metadata": {},
   "source": [
    "# Choix du modèle d'apprentissage\n",
    "\n",
    "Choisir entre les options suivantes quel algorithme d'apprentissage utiliser.\n",
    "Il ne faut pas exécuter la cellule suivante, afin que la valeur de l'algorithme choisi ne soit pas réinitialisé."
   ]
  },
  {
   "cell_type": "code",
   "execution_count": 8,
   "metadata": {},
   "outputs": [
    {
     "data": {
      "application/vnd.jupyter.widget-view+json": {
       "model_id": "67a18668a39045ef9d0799d711da0dcf",
       "version_major": 2,
       "version_minor": 0
      },
      "text/plain": [
       "Dropdown(description='Algorithme :', options=('SVM', 'K-proches_voisins', 'Naive_Bayesienne', 'Arbre_de_decisi…"
      ]
     },
     "metadata": {},
     "output_type": "display_data"
    },
    {
     "data": {
      "application/vnd.jupyter.widget-view+json": {
       "model_id": "29b3520886d5449f80a2a14a2cfc26c8",
       "version_major": 2,
       "version_minor": 0
      },
      "text/plain": [
       "Checkbox(value=False, description='Rechercher hyperparamètres', indent=False)"
      ]
     },
     "metadata": {},
     "output_type": "display_data"
    }
   ],
   "source": [
    "algorithme = widgets.Dropdown(options=['SVM', 'K-proches_voisins', \\\n",
    "                                       'Naive_Bayesienne','Arbre_de_decisions',\\\n",
    "                                       'Foret_Aleatoire','Reseau_de_neurones'],\n",
    "    value='SVM',description='Algorithme :', disabled=False,)\n",
    "rh = widgets.Checkbox(value=False, description='Rechercher hyperparamètres',\n",
    "    disabled=False,indent=False)\n",
    "display(algorithme)\n",
    "display(rh)"
   ]
  },
  {
   "cell_type": "markdown",
   "metadata": {},
   "source": [
    "## Importer l'algorithme choisi"
   ]
  },
  {
   "cell_type": "code",
   "execution_count": 32,
   "metadata": {},
   "outputs": [],
   "source": [
    "if algorithme.value == 'Reseau_de_neurones':\n",
    "    classif = perceptron.Perceptron()\n",
    "    \n",
    "elif algorithme.value == 'SVM':\n",
    "    classif = SVM.SupportVectorMachine()\n",
    "    \n",
    "elif algorithme.value == 'K-proches_voisins': \n",
    "    classif = k_proches_voisins.KProchesVoisins()\n",
    "    \n",
    "elif algorithme.value == 'Naive_Bayesienne': \n",
    "    classif = naive_bayesienne.NaiveBayes()\n",
    "    \n",
    "elif algorithme.value == 'Arbre_decisions': \n",
    "    classif = arbre_decision.ArbreDecision()\n",
    "    \n",
    "elif algorithme.value == 'Foret_Aleatoire': \n",
    "    classif = foret_aleatoire.ForetAleatoire()"
   ]
  },
  {
   "cell_type": "markdown",
   "metadata": {},
   "source": [
    "## Traîtement de la base de données"
   ]
  },
  {
   "cell_type": "code",
   "execution_count": 33,
   "metadata": {},
   "outputs": [],
   "source": [
    "# Séparer les données et leur cibles\n",
    "g_donnees = gd.GestionDonnees(d_base)\n",
    "[types, X, t] = g_donnees.lecture_donnees(d_base)\n",
    "    \n",
    "# Séparer les données pour test et train\n",
    "x_tr, x_ts, t_tr, t_ts = g_donnees.sep_donnees(X, t)"
   ]
  },
  {
   "cell_type": "markdown",
   "metadata": {},
   "source": [
    "## Entraînement\n",
    "\n",
    "On fait l'entraînement de l'algorithme choisi. Cet entrainement dépend du choix fait pour la recherche d'hyperparamètres et du type d'algorithme, ça sera fait avec les libraries de RandomizedSearchCV ou GridSearchCV. Les valeurs d'hyperparamètres à tester sont prédefinis de manière interne."
   ]
  },
  {
   "cell_type": "code",
   "execution_count": 34,
   "metadata": {},
   "outputs": [
    {
     "name": "stdout",
     "output_type": "stream",
     "text": [
      "Debut de l'entrainement perceptron avec recherche d'hyperparamètres \n",
      "\n",
      "Paramètres utilisés pour l'entraînement perceptron : {'activation': 'tanh', 'alpha': 0.0001, 'batch_size': 64, 'beta_1': 0.9, 'beta_2': 0.999, 'early_stopping': False, 'epsilon': 1e-08, 'hidden_layer_sizes': (100,), 'learning_rate': 'invscaling', 'learning_rate_init': 0.00135, 'max_fun': 15000, 'max_iter': 80, 'momentum': 0.0, 'n_iter_no_change': 10, 'nesterovs_momentum': True, 'power_t': 0.5, 'random_state': None, 'shuffle': True, 'solver': 'lbfgs', 'tol': 6.000000000000001e-05, 'validation_fraction': 0.1, 'verbose': False, 'warm_start': False} \n",
      "\n",
      "Fin de l'entrainement. Réalisé en 117.74 secondes. \n",
      "\n"
     ]
    }
   ],
   "source": [
    "debut_e = time.time() # Heure de debut pour mesurer le temps d'entraînement\n",
    "classif.entrainement(x_tr, t_tr, rh.value)\n",
    "fin_e = time.time() # Heure de fin pour mesurer le temps d'entraînement\n",
    "print('Fin de l\\'entrainement. Réalisé en %.2f secondes.'% (fin_e - debut_e),'\\n')"
   ]
  },
  {
   "cell_type": "markdown",
   "metadata": {},
   "source": [
    "## Prédictions et métriques de performance\n",
    "\n",
    "On fait les prédictions pour les ensembles d'entraînement complet et de test. Ensuite, on calcule les métriques de performance d'accuracy, précision, rappel et F-score."
   ]
  },
  {
   "cell_type": "code",
   "execution_count": 35,
   "metadata": {},
   "outputs": [
    {
     "name": "stdout",
     "output_type": "stream",
     "text": [
      "Métrique      Train    Test\n",
      "----------  -------  ------\n",
      "Accuracy     1.0000  0.8548\n",
      "Précision    1.0000  0.8460\n",
      "Rappel       1.0000  0.8359\n",
      "F-Beta       1.0000  0.8209\n"
     ]
    }
   ],
   "source": [
    "# Prédictions pour les ensembles d'entraînement et de test\n",
    "predict_tr = classif.prediction(x_tr)\n",
    "predict_ts = classif.prediction(x_ts)\n",
    "\n",
    "# Métriques pour évaluer l'entraînement et test\n",
    "prs_tr, rec_tr, fbeta_tr, _ = metriques(t_tr, predict_tr, average='macro')\n",
    "prs_ts, rec_ts, fbeta_ts, _ = metriques(t_ts, predict_ts, average='macro')\n",
    "acc_tr = accu(t_tr, predict_tr)\n",
    "acc_ts = accu(t_ts, predict_ts)\n",
    "tab_perform = [['Accuracy', acc_tr, acc_ts],['Précision', prs_tr, prs_ts],\\\n",
    "               ['Rappel', rec_tr, rec_ts],['F-Beta', fbeta_tr, fbeta_ts]]\n",
    "print(tabulate(tab_perform, headers=['Métrique', 'Train', 'Test'], \\\n",
    "               floatfmt='.4f'))"
   ]
  }
 ],
 "metadata": {
  "kernelspec": {
   "display_name": "Python 3",
   "language": "python",
   "name": "python3"
  },
  "language_info": {
   "codemirror_mode": {
    "name": "ipython",
    "version": 3
   },
   "file_extension": ".py",
   "mimetype": "text/x-python",
   "name": "python",
   "nbconvert_exporter": "python",
   "pygments_lexer": "ipython3",
   "version": "3.7.9"
  }
 },
 "nbformat": 4,
 "nbformat_minor": 4
}
